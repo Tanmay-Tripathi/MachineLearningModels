{
 "cells": [
  {
   "cell_type": "markdown",
   "id": "613c3171",
   "metadata": {
    "papermill": {
     "duration": 0.007156,
     "end_time": "2023-05-29T16:44:30.674852",
     "exception": false,
     "start_time": "2023-05-29T16:44:30.667696",
     "status": "completed"
    },
    "tags": []
   },
   "source": [
    "#  Logistic Regression Model (Diabetes prediction)"
   ]
  },
  {
   "cell_type": "markdown",
   "id": "46332355",
   "metadata": {
    "papermill": {
     "duration": 0.00577,
     "end_time": "2023-05-29T16:44:30.687201",
     "exception": false,
     "start_time": "2023-05-29T16:44:30.681431",
     "status": "completed"
    },
    "tags": []
   },
   "source": [
    "### Importing the Libraries"
   ]
  },
  {
   "cell_type": "code",
   "execution_count": 1,
   "id": "e0bae3a5",
   "metadata": {
    "execution": {
     "iopub.execute_input": "2023-05-29T16:44:30.701207Z",
     "iopub.status.busy": "2023-05-29T16:44:30.700752Z",
     "iopub.status.idle": "2023-05-29T16:44:30.712953Z",
     "shell.execute_reply": "2023-05-29T16:44:30.712020Z"
    },
    "papermill": {
     "duration": 0.022215,
     "end_time": "2023-05-29T16:44:30.715348",
     "exception": false,
     "start_time": "2023-05-29T16:44:30.693133",
     "status": "completed"
    },
    "tags": []
   },
   "outputs": [],
   "source": [
    "import pandas as pd\n",
    "import numpy as np"
   ]
  },
  {
   "cell_type": "markdown",
   "id": "b884f2c2",
   "metadata": {
    "papermill": {
     "duration": 0.005781,
     "end_time": "2023-05-29T16:44:30.727257",
     "exception": false,
     "start_time": "2023-05-29T16:44:30.721476",
     "status": "completed"
    },
    "tags": []
   },
   "source": [
    "### Importing the Dataset"
   ]
  },
  {
   "cell_type": "code",
   "execution_count": 2,
   "id": "a461eda1",
   "metadata": {
    "execution": {
     "iopub.execute_input": "2023-05-29T16:44:30.741937Z",
     "iopub.status.busy": "2023-05-29T16:44:30.740970Z",
     "iopub.status.idle": "2023-05-29T16:44:30.770752Z",
     "shell.execute_reply": "2023-05-29T16:44:30.769758Z"
    },
    "papermill": {
     "duration": 0.040123,
     "end_time": "2023-05-29T16:44:30.773469",
     "exception": false,
     "start_time": "2023-05-29T16:44:30.733346",
     "status": "completed"
    },
    "tags": []
   },
   "outputs": [],
   "source": [
    "dataset = pd.read_csv('/kaggle/input/diabetes/diabetes.csv')\n",
    "X = dataset.iloc[:, :-1].values\n",
    "Y = dataset.iloc[:, -1].values"
   ]
  },
  {
   "cell_type": "markdown",
   "id": "310aacd9",
   "metadata": {
    "papermill": {
     "duration": 0.005914,
     "end_time": "2023-05-29T16:44:30.786092",
     "exception": false,
     "start_time": "2023-05-29T16:44:30.780178",
     "status": "completed"
    },
    "tags": []
   },
   "source": [
    "### Lable encoding"
   ]
  },
  {
   "cell_type": "code",
   "execution_count": 3,
   "id": "5e16f0a4",
   "metadata": {
    "execution": {
     "iopub.execute_input": "2023-05-29T16:44:30.802557Z",
     "iopub.status.busy": "2023-05-29T16:44:30.802112Z",
     "iopub.status.idle": "2023-05-29T16:44:32.121384Z",
     "shell.execute_reply": "2023-05-29T16:44:32.119311Z"
    },
    "papermill": {
     "duration": 1.332448,
     "end_time": "2023-05-29T16:44:32.124885",
     "exception": false,
     "start_time": "2023-05-29T16:44:30.792437",
     "status": "completed"
    },
    "tags": []
   },
   "outputs": [],
   "source": [
    "from sklearn.preprocessing import LabelEncoder\n",
    "le = LabelEncoder()\n",
    "Y = le.fit_transform(Y)"
   ]
  },
  {
   "cell_type": "markdown",
   "id": "a7629451",
   "metadata": {
    "papermill": {
     "duration": 0.005709,
     "end_time": "2023-05-29T16:44:32.136778",
     "exception": false,
     "start_time": "2023-05-29T16:44:32.131069",
     "status": "completed"
    },
    "tags": []
   },
   "source": [
    "### Spliting the dataset into training and test set"
   ]
  },
  {
   "cell_type": "code",
   "execution_count": 4,
   "id": "3126dfbb",
   "metadata": {
    "execution": {
     "iopub.execute_input": "2023-05-29T16:44:32.151221Z",
     "iopub.status.busy": "2023-05-29T16:44:32.150363Z",
     "iopub.status.idle": "2023-05-29T16:44:32.267209Z",
     "shell.execute_reply": "2023-05-29T16:44:32.266017Z"
    },
    "papermill": {
     "duration": 0.127459,
     "end_time": "2023-05-29T16:44:32.270190",
     "exception": false,
     "start_time": "2023-05-29T16:44:32.142731",
     "status": "completed"
    },
    "tags": []
   },
   "outputs": [],
   "source": [
    "from sklearn.model_selection import train_test_split\n",
    "x_train, x_test, y_train, y_test = train_test_split(X, Y, test_size = 0.1, random_state = 0)"
   ]
  },
  {
   "cell_type": "markdown",
   "id": "f4abfe11",
   "metadata": {
    "papermill": {
     "duration": 0.005736,
     "end_time": "2023-05-29T16:44:32.282030",
     "exception": false,
     "start_time": "2023-05-29T16:44:32.276294",
     "status": "completed"
    },
    "tags": []
   },
   "source": [
    "### Feature Scalling"
   ]
  },
  {
   "cell_type": "code",
   "execution_count": 5,
   "id": "9ef2d107",
   "metadata": {
    "execution": {
     "iopub.execute_input": "2023-05-29T16:44:32.296159Z",
     "iopub.status.busy": "2023-05-29T16:44:32.295671Z",
     "iopub.status.idle": "2023-05-29T16:44:32.304858Z",
     "shell.execute_reply": "2023-05-29T16:44:32.303743Z"
    },
    "papermill": {
     "duration": 0.019432,
     "end_time": "2023-05-29T16:44:32.307377",
     "exception": false,
     "start_time": "2023-05-29T16:44:32.287945",
     "status": "completed"
    },
    "tags": []
   },
   "outputs": [],
   "source": [
    "from sklearn.preprocessing import StandardScaler\n",
    "sc = StandardScaler()\n",
    "x_train = sc.fit_transform(x_train)\n",
    "x_test = sc.fit_transform(x_test)"
   ]
  },
  {
   "cell_type": "markdown",
   "id": "109f09d1",
   "metadata": {
    "papermill": {
     "duration": 0.005683,
     "end_time": "2023-05-29T16:44:32.319008",
     "exception": false,
     "start_time": "2023-05-29T16:44:32.313325",
     "status": "completed"
    },
    "tags": []
   },
   "source": [
    "### Training the Logistic Regression Model"
   ]
  },
  {
   "cell_type": "code",
   "execution_count": 6,
   "id": "8c2f31d1",
   "metadata": {
    "execution": {
     "iopub.execute_input": "2023-05-29T16:44:32.333101Z",
     "iopub.status.busy": "2023-05-29T16:44:32.332589Z",
     "iopub.status.idle": "2023-05-29T16:44:32.468685Z",
     "shell.execute_reply": "2023-05-29T16:44:32.467452Z"
    },
    "papermill": {
     "duration": 0.146738,
     "end_time": "2023-05-29T16:44:32.471725",
     "exception": false,
     "start_time": "2023-05-29T16:44:32.324987",
     "status": "completed"
    },
    "tags": []
   },
   "outputs": [
    {
     "data": {
      "text/html": [
       "<style>#sk-container-id-1 {color: black;background-color: white;}#sk-container-id-1 pre{padding: 0;}#sk-container-id-1 div.sk-toggleable {background-color: white;}#sk-container-id-1 label.sk-toggleable__label {cursor: pointer;display: block;width: 100%;margin-bottom: 0;padding: 0.3em;box-sizing: border-box;text-align: center;}#sk-container-id-1 label.sk-toggleable__label-arrow:before {content: \"▸\";float: left;margin-right: 0.25em;color: #696969;}#sk-container-id-1 label.sk-toggleable__label-arrow:hover:before {color: black;}#sk-container-id-1 div.sk-estimator:hover label.sk-toggleable__label-arrow:before {color: black;}#sk-container-id-1 div.sk-toggleable__content {max-height: 0;max-width: 0;overflow: hidden;text-align: left;background-color: #f0f8ff;}#sk-container-id-1 div.sk-toggleable__content pre {margin: 0.2em;color: black;border-radius: 0.25em;background-color: #f0f8ff;}#sk-container-id-1 input.sk-toggleable__control:checked~div.sk-toggleable__content {max-height: 200px;max-width: 100%;overflow: auto;}#sk-container-id-1 input.sk-toggleable__control:checked~label.sk-toggleable__label-arrow:before {content: \"▾\";}#sk-container-id-1 div.sk-estimator input.sk-toggleable__control:checked~label.sk-toggleable__label {background-color: #d4ebff;}#sk-container-id-1 div.sk-label input.sk-toggleable__control:checked~label.sk-toggleable__label {background-color: #d4ebff;}#sk-container-id-1 input.sk-hidden--visually {border: 0;clip: rect(1px 1px 1px 1px);clip: rect(1px, 1px, 1px, 1px);height: 1px;margin: -1px;overflow: hidden;padding: 0;position: absolute;width: 1px;}#sk-container-id-1 div.sk-estimator {font-family: monospace;background-color: #f0f8ff;border: 1px dotted black;border-radius: 0.25em;box-sizing: border-box;margin-bottom: 0.5em;}#sk-container-id-1 div.sk-estimator:hover {background-color: #d4ebff;}#sk-container-id-1 div.sk-parallel-item::after {content: \"\";width: 100%;border-bottom: 1px solid gray;flex-grow: 1;}#sk-container-id-1 div.sk-label:hover label.sk-toggleable__label {background-color: #d4ebff;}#sk-container-id-1 div.sk-serial::before {content: \"\";position: absolute;border-left: 1px solid gray;box-sizing: border-box;top: 0;bottom: 0;left: 50%;z-index: 0;}#sk-container-id-1 div.sk-serial {display: flex;flex-direction: column;align-items: center;background-color: white;padding-right: 0.2em;padding-left: 0.2em;position: relative;}#sk-container-id-1 div.sk-item {position: relative;z-index: 1;}#sk-container-id-1 div.sk-parallel {display: flex;align-items: stretch;justify-content: center;background-color: white;position: relative;}#sk-container-id-1 div.sk-item::before, #sk-container-id-1 div.sk-parallel-item::before {content: \"\";position: absolute;border-left: 1px solid gray;box-sizing: border-box;top: 0;bottom: 0;left: 50%;z-index: -1;}#sk-container-id-1 div.sk-parallel-item {display: flex;flex-direction: column;z-index: 1;position: relative;background-color: white;}#sk-container-id-1 div.sk-parallel-item:first-child::after {align-self: flex-end;width: 50%;}#sk-container-id-1 div.sk-parallel-item:last-child::after {align-self: flex-start;width: 50%;}#sk-container-id-1 div.sk-parallel-item:only-child::after {width: 0;}#sk-container-id-1 div.sk-dashed-wrapped {border: 1px dashed gray;margin: 0 0.4em 0.5em 0.4em;box-sizing: border-box;padding-bottom: 0.4em;background-color: white;}#sk-container-id-1 div.sk-label label {font-family: monospace;font-weight: bold;display: inline-block;line-height: 1.2em;}#sk-container-id-1 div.sk-label-container {text-align: center;}#sk-container-id-1 div.sk-container {/* jupyter's `normalize.less` sets `[hidden] { display: none; }` but bootstrap.min.css set `[hidden] { display: none !important; }` so we also need the `!important` here to be able to override the default hidden behavior on the sphinx rendered scikit-learn.org. See: https://github.com/scikit-learn/scikit-learn/issues/21755 */display: inline-block !important;position: relative;}#sk-container-id-1 div.sk-text-repr-fallback {display: none;}</style><div id=\"sk-container-id-1\" class=\"sk-top-container\"><div class=\"sk-text-repr-fallback\"><pre>LogisticRegression(random_state=0)</pre><b>In a Jupyter environment, please rerun this cell to show the HTML representation or trust the notebook. <br />On GitHub, the HTML representation is unable to render, please try loading this page with nbviewer.org.</b></div><div class=\"sk-container\" hidden><div class=\"sk-item\"><div class=\"sk-estimator sk-toggleable\"><input class=\"sk-toggleable__control sk-hidden--visually\" id=\"sk-estimator-id-1\" type=\"checkbox\" checked><label for=\"sk-estimator-id-1\" class=\"sk-toggleable__label sk-toggleable__label-arrow\">LogisticRegression</label><div class=\"sk-toggleable__content\"><pre>LogisticRegression(random_state=0)</pre></div></div></div></div></div>"
      ],
      "text/plain": [
       "LogisticRegression(random_state=0)"
      ]
     },
     "execution_count": 6,
     "metadata": {},
     "output_type": "execute_result"
    }
   ],
   "source": [
    "from sklearn.linear_model import LogisticRegression\n",
    "cls = LogisticRegression(random_state = 0)\n",
    "cls.fit(x_train, y_train)"
   ]
  },
  {
   "cell_type": "markdown",
   "id": "e5a1e974",
   "metadata": {
    "papermill": {
     "duration": 0.00579,
     "end_time": "2023-05-29T16:44:32.483743",
     "exception": false,
     "start_time": "2023-05-29T16:44:32.477953",
     "status": "completed"
    },
    "tags": []
   },
   "source": [
    "### Prediciting the test set results"
   ]
  },
  {
   "cell_type": "code",
   "execution_count": 7,
   "id": "42a568f2",
   "metadata": {
    "execution": {
     "iopub.execute_input": "2023-05-29T16:44:32.497989Z",
     "iopub.status.busy": "2023-05-29T16:44:32.497500Z",
     "iopub.status.idle": "2023-05-29T16:44:32.505826Z",
     "shell.execute_reply": "2023-05-29T16:44:32.504583Z"
    },
    "papermill": {
     "duration": 0.019186,
     "end_time": "2023-05-29T16:44:32.508910",
     "exception": false,
     "start_time": "2023-05-29T16:44:32.489724",
     "status": "completed"
    },
    "tags": []
   },
   "outputs": [
    {
     "name": "stdout",
     "output_type": "stream",
     "text": [
      "[[0 1]\n",
      " [1 1]\n",
      " [0 0]\n",
      " [1 0]\n",
      " [0 0]\n",
      " [1 0]\n",
      " [0 0]\n",
      " [0 0]\n",
      " [1 1]\n",
      " [1 0]\n",
      " [0 0]\n",
      " [0 1]\n",
      " [0 0]\n",
      " [0 1]\n",
      " [0 0]\n",
      " [0 0]\n",
      " [0 0]\n",
      " [0 0]\n",
      " [0 0]\n",
      " [0 0]\n",
      " [0 1]\n",
      " [1 0]\n",
      " [0 0]\n",
      " [0 0]\n",
      " [0 0]\n",
      " [1 1]\n",
      " [0 0]\n",
      " [0 0]\n",
      " [0 0]\n",
      " [0 0]\n",
      " [0 1]\n",
      " [0 0]\n",
      " [0 0]\n",
      " [0 1]\n",
      " [0 0]\n",
      " [1 1]\n",
      " [0 0]\n",
      " [0 1]\n",
      " [0 0]\n",
      " [1 1]]\n"
     ]
    }
   ],
   "source": [
    "y_pred = cls.predict(x_test)\n",
    "print(np.concatenate((y_pred.reshape(len(y_pred),1), y_test.reshape(len(y_test),1)),1))"
   ]
  },
  {
   "cell_type": "markdown",
   "id": "ce191654",
   "metadata": {
    "papermill": {
     "duration": 0.005888,
     "end_time": "2023-05-29T16:44:32.521385",
     "exception": false,
     "start_time": "2023-05-29T16:44:32.515497",
     "status": "completed"
    },
    "tags": []
   },
   "source": [
    "### The confusion Matrix"
   ]
  },
  {
   "cell_type": "code",
   "execution_count": 8,
   "id": "6ae23d3f",
   "metadata": {
    "execution": {
     "iopub.execute_input": "2023-05-29T16:44:32.535828Z",
     "iopub.status.busy": "2023-05-29T16:44:32.535356Z",
     "iopub.status.idle": "2023-05-29T16:44:32.544644Z",
     "shell.execute_reply": "2023-05-29T16:44:32.543250Z"
    },
    "papermill": {
     "duration": 0.019623,
     "end_time": "2023-05-29T16:44:32.547152",
     "exception": false,
     "start_time": "2023-05-29T16:44:32.527529",
     "status": "completed"
    },
    "tags": []
   },
   "outputs": [
    {
     "name": "stdout",
     "output_type": "stream",
     "text": [
      "[[24  4]\n",
      " [ 7  5]]\n"
     ]
    }
   ],
   "source": [
    "from sklearn.metrics import confusion_matrix, accuracy_score\n",
    "cm = confusion_matrix(y_test, y_pred)\n",
    "print(cm)"
   ]
  },
  {
   "cell_type": "markdown",
   "id": "b3147c33",
   "metadata": {
    "papermill": {
     "duration": 0.006365,
     "end_time": "2023-05-29T16:44:32.560220",
     "exception": false,
     "start_time": "2023-05-29T16:44:32.553855",
     "status": "completed"
    },
    "tags": []
   },
   "source": [
    "### Computing the acuracy with k Fold cross validation"
   ]
  },
  {
   "cell_type": "code",
   "execution_count": 9,
   "id": "464c8c28",
   "metadata": {
    "execution": {
     "iopub.execute_input": "2023-05-29T16:44:32.575163Z",
     "iopub.status.busy": "2023-05-29T16:44:32.574728Z",
     "iopub.status.idle": "2023-05-29T16:44:32.641748Z",
     "shell.execute_reply": "2023-05-29T16:44:32.640558Z"
    },
    "papermill": {
     "duration": 0.07801,
     "end_time": "2023-05-29T16:44:32.644654",
     "exception": false,
     "start_time": "2023-05-29T16:44:32.566644",
     "status": "completed"
    },
    "tags": []
   },
   "outputs": [
    {
     "name": "stdout",
     "output_type": "stream",
     "text": [
      "ML Model's Accuracy = 79.25 %\n",
      "ML Model's Standard Deviation = 4.11 %\n"
     ]
    }
   ],
   "source": [
    "from sklearn.model_selection import cross_val_score\n",
    "acc = cross_val_score(cls, x_train, y_train, cv = 10)\n",
    "print(\"ML Model's Accuracy = {:.2f} %\".format(acc.mean()*100))\n",
    "print(\"ML Model's Standard Deviation = {:.2f} %\".format(acc.std()*100))"
   ]
  }
 ],
 "metadata": {
  "kernelspec": {
   "display_name": "Python 3",
   "language": "python",
   "name": "python3"
  },
  "language_info": {
   "codemirror_mode": {
    "name": "ipython",
    "version": 3
   },
   "file_extension": ".py",
   "mimetype": "text/x-python",
   "name": "python",
   "nbconvert_exporter": "python",
   "pygments_lexer": "ipython3",
   "version": "3.10.10"
  },
  "papermill": {
   "default_parameters": {},
   "duration": 16.885896,
   "end_time": "2023-05-29T16:44:34.917526",
   "environment_variables": {},
   "exception": null,
   "input_path": "__notebook__.ipynb",
   "output_path": "__notebook__.ipynb",
   "parameters": {},
   "start_time": "2023-05-29T16:44:18.031630",
   "version": "2.4.0"
  }
 },
 "nbformat": 4,
 "nbformat_minor": 5
}
