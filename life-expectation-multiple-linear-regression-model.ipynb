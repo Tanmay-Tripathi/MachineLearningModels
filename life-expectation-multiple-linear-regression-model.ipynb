{
 "cells": [
  {
   "cell_type": "code",
   "execution_count": 1,
   "id": "2e686cb1",
   "metadata": {
    "execution": {
     "iopub.execute_input": "2023-05-19T16:44:01.360217Z",
     "iopub.status.busy": "2023-05-19T16:44:01.359838Z",
     "iopub.status.idle": "2023-05-19T16:44:01.375369Z",
     "shell.execute_reply": "2023-05-19T16:44:01.374061Z"
    },
    "papermill": {
     "duration": 0.027255,
     "end_time": "2023-05-19T16:44:01.378182",
     "exception": false,
     "start_time": "2023-05-19T16:44:01.350927",
     "status": "completed"
    },
    "tags": []
   },
   "outputs": [],
   "source": [
    "import numpy as np\n",
    "import pandas as pd\n",
    "import matplotlib.pyplot as plt"
   ]
  },
  {
   "cell_type": "markdown",
   "id": "62fca2cb",
   "metadata": {
    "papermill": {
     "duration": 0.004031,
     "end_time": "2023-05-19T16:44:01.386830",
     "exception": false,
     "start_time": "2023-05-19T16:44:01.382799",
     "status": "completed"
    },
    "tags": []
   },
   "source": [
    "Importing the dataset"
   ]
  },
  {
   "cell_type": "code",
   "execution_count": 2,
   "id": "65a0f1fe",
   "metadata": {
    "execution": {
     "iopub.execute_input": "2023-05-19T16:44:01.398734Z",
     "iopub.status.busy": "2023-05-19T16:44:01.397912Z",
     "iopub.status.idle": "2023-05-19T16:44:01.440458Z",
     "shell.execute_reply": "2023-05-19T16:44:01.439159Z"
    },
    "papermill": {
     "duration": 0.052938,
     "end_time": "2023-05-19T16:44:01.443936",
     "exception": false,
     "start_time": "2023-05-19T16:44:01.390998",
     "status": "completed"
    },
    "tags": []
   },
   "outputs": [],
   "source": [
    "dataset = pd.read_csv('/kaggle/input/lifeexpectation-by-who/Life.csv')\n",
    "X = dataset.iloc[:, :-1].values\n",
    "Y = dataset.iloc[:, -1].values"
   ]
  },
  {
   "cell_type": "markdown",
   "id": "5f0039a1",
   "metadata": {
    "papermill": {
     "duration": 0.003903,
     "end_time": "2023-05-19T16:44:01.452766",
     "exception": false,
     "start_time": "2023-05-19T16:44:01.448863",
     "status": "completed"
    },
    "tags": []
   },
   "source": [
    "Taking care of Missing data"
   ]
  },
  {
   "cell_type": "code",
   "execution_count": 3,
   "id": "978dbebb",
   "metadata": {
    "execution": {
     "iopub.execute_input": "2023-05-19T16:44:01.463562Z",
     "iopub.status.busy": "2023-05-19T16:44:01.462340Z",
     "iopub.status.idle": "2023-05-19T16:44:02.825858Z",
     "shell.execute_reply": "2023-05-19T16:44:02.824693Z"
    },
    "papermill": {
     "duration": 1.371903,
     "end_time": "2023-05-19T16:44:02.828789",
     "exception": false,
     "start_time": "2023-05-19T16:44:01.456886",
     "status": "completed"
    },
    "tags": []
   },
   "outputs": [
    {
     "name": "stderr",
     "output_type": "stream",
     "text": [
      "/opt/conda/lib/python3.10/site-packages/scipy/__init__.py:146: UserWarning: A NumPy version >=1.16.5 and <1.23.0 is required for this version of SciPy (detected version 1.23.5\n",
      "  warnings.warn(f\"A NumPy version >={np_minversion} and <{np_maxversion}\"\n"
     ]
    }
   ],
   "source": [
    "from sklearn.impute import SimpleImputer\n",
    "imputer = SimpleImputer(missing_values=np.nan, strategy='mean')\n",
    "imputer.fit(X[:, 1:12])\n",
    "X[:, 1:12] = imputer.transform(X[:, 1:12])"
   ]
  },
  {
   "cell_type": "code",
   "execution_count": 4,
   "id": "9759edef",
   "metadata": {
    "execution": {
     "iopub.execute_input": "2023-05-19T16:44:02.839472Z",
     "iopub.status.busy": "2023-05-19T16:44:02.839067Z",
     "iopub.status.idle": "2023-05-19T16:44:02.847109Z",
     "shell.execute_reply": "2023-05-19T16:44:02.846062Z"
    },
    "papermill": {
     "duration": 0.016199,
     "end_time": "2023-05-19T16:44:02.849502",
     "exception": false,
     "start_time": "2023-05-19T16:44:02.833303",
     "status": "completed"
    },
    "tags": []
   },
   "outputs": [],
   "source": [
    "imp = SimpleImputer(missing_values=np.nan, strategy='mean')\n",
    "Y = np.reshape(Y, (-1, 1))  # Reshape Y to have 2 dimensions\n",
    "imp.fit(Y)\n",
    "Y = imp.transform(Y)"
   ]
  },
  {
   "cell_type": "markdown",
   "id": "21709d2a",
   "metadata": {
    "papermill": {
     "duration": 0.004174,
     "end_time": "2023-05-19T16:44:02.858095",
     "exception": false,
     "start_time": "2023-05-19T16:44:02.853921",
     "status": "completed"
    },
    "tags": []
   },
   "source": [
    "Spliting the dataset into training and test set"
   ]
  },
  {
   "cell_type": "code",
   "execution_count": 5,
   "id": "8f96c4ad",
   "metadata": {
    "execution": {
     "iopub.execute_input": "2023-05-19T16:44:02.868996Z",
     "iopub.status.busy": "2023-05-19T16:44:02.868619Z",
     "iopub.status.idle": "2023-05-19T16:44:02.875053Z",
     "shell.execute_reply": "2023-05-19T16:44:02.873939Z"
    },
    "papermill": {
     "duration": 0.014713,
     "end_time": "2023-05-19T16:44:02.877475",
     "exception": false,
     "start_time": "2023-05-19T16:44:02.862762",
     "status": "completed"
    },
    "tags": []
   },
   "outputs": [],
   "source": [
    "from sklearn.model_selection import train_test_split\n",
    "x_train, x_test, y_train, y_test = train_test_split(X, Y, test_size = 0.05, random_state = 0)"
   ]
  },
  {
   "cell_type": "markdown",
   "id": "6c125ceb",
   "metadata": {
    "papermill": {
     "duration": 0.004155,
     "end_time": "2023-05-19T16:44:02.886068",
     "exception": false,
     "start_time": "2023-05-19T16:44:02.881913",
     "status": "completed"
    },
    "tags": []
   },
   "source": [
    "Training the Linear Regression Model"
   ]
  },
  {
   "cell_type": "code",
   "execution_count": 6,
   "id": "aa6d30d4",
   "metadata": {
    "execution": {
     "iopub.execute_input": "2023-05-19T16:44:02.897061Z",
     "iopub.status.busy": "2023-05-19T16:44:02.896671Z",
     "iopub.status.idle": "2023-05-19T16:44:03.016344Z",
     "shell.execute_reply": "2023-05-19T16:44:03.015067Z"
    },
    "papermill": {
     "duration": 0.128673,
     "end_time": "2023-05-19T16:44:03.019100",
     "exception": false,
     "start_time": "2023-05-19T16:44:02.890427",
     "status": "completed"
    },
    "tags": []
   },
   "outputs": [
    {
     "data": {
      "text/html": [
       "<style>#sk-container-id-1 {color: black;background-color: white;}#sk-container-id-1 pre{padding: 0;}#sk-container-id-1 div.sk-toggleable {background-color: white;}#sk-container-id-1 label.sk-toggleable__label {cursor: pointer;display: block;width: 100%;margin-bottom: 0;padding: 0.3em;box-sizing: border-box;text-align: center;}#sk-container-id-1 label.sk-toggleable__label-arrow:before {content: \"▸\";float: left;margin-right: 0.25em;color: #696969;}#sk-container-id-1 label.sk-toggleable__label-arrow:hover:before {color: black;}#sk-container-id-1 div.sk-estimator:hover label.sk-toggleable__label-arrow:before {color: black;}#sk-container-id-1 div.sk-toggleable__content {max-height: 0;max-width: 0;overflow: hidden;text-align: left;background-color: #f0f8ff;}#sk-container-id-1 div.sk-toggleable__content pre {margin: 0.2em;color: black;border-radius: 0.25em;background-color: #f0f8ff;}#sk-container-id-1 input.sk-toggleable__control:checked~div.sk-toggleable__content {max-height: 200px;max-width: 100%;overflow: auto;}#sk-container-id-1 input.sk-toggleable__control:checked~label.sk-toggleable__label-arrow:before {content: \"▾\";}#sk-container-id-1 div.sk-estimator input.sk-toggleable__control:checked~label.sk-toggleable__label {background-color: #d4ebff;}#sk-container-id-1 div.sk-label input.sk-toggleable__control:checked~label.sk-toggleable__label {background-color: #d4ebff;}#sk-container-id-1 input.sk-hidden--visually {border: 0;clip: rect(1px 1px 1px 1px);clip: rect(1px, 1px, 1px, 1px);height: 1px;margin: -1px;overflow: hidden;padding: 0;position: absolute;width: 1px;}#sk-container-id-1 div.sk-estimator {font-family: monospace;background-color: #f0f8ff;border: 1px dotted black;border-radius: 0.25em;box-sizing: border-box;margin-bottom: 0.5em;}#sk-container-id-1 div.sk-estimator:hover {background-color: #d4ebff;}#sk-container-id-1 div.sk-parallel-item::after {content: \"\";width: 100%;border-bottom: 1px solid gray;flex-grow: 1;}#sk-container-id-1 div.sk-label:hover label.sk-toggleable__label {background-color: #d4ebff;}#sk-container-id-1 div.sk-serial::before {content: \"\";position: absolute;border-left: 1px solid gray;box-sizing: border-box;top: 0;bottom: 0;left: 50%;z-index: 0;}#sk-container-id-1 div.sk-serial {display: flex;flex-direction: column;align-items: center;background-color: white;padding-right: 0.2em;padding-left: 0.2em;position: relative;}#sk-container-id-1 div.sk-item {position: relative;z-index: 1;}#sk-container-id-1 div.sk-parallel {display: flex;align-items: stretch;justify-content: center;background-color: white;position: relative;}#sk-container-id-1 div.sk-item::before, #sk-container-id-1 div.sk-parallel-item::before {content: \"\";position: absolute;border-left: 1px solid gray;box-sizing: border-box;top: 0;bottom: 0;left: 50%;z-index: -1;}#sk-container-id-1 div.sk-parallel-item {display: flex;flex-direction: column;z-index: 1;position: relative;background-color: white;}#sk-container-id-1 div.sk-parallel-item:first-child::after {align-self: flex-end;width: 50%;}#sk-container-id-1 div.sk-parallel-item:last-child::after {align-self: flex-start;width: 50%;}#sk-container-id-1 div.sk-parallel-item:only-child::after {width: 0;}#sk-container-id-1 div.sk-dashed-wrapped {border: 1px dashed gray;margin: 0 0.4em 0.5em 0.4em;box-sizing: border-box;padding-bottom: 0.4em;background-color: white;}#sk-container-id-1 div.sk-label label {font-family: monospace;font-weight: bold;display: inline-block;line-height: 1.2em;}#sk-container-id-1 div.sk-label-container {text-align: center;}#sk-container-id-1 div.sk-container {/* jupyter's `normalize.less` sets `[hidden] { display: none; }` but bootstrap.min.css set `[hidden] { display: none !important; }` so we also need the `!important` here to be able to override the default hidden behavior on the sphinx rendered scikit-learn.org. See: https://github.com/scikit-learn/scikit-learn/issues/21755 */display: inline-block !important;position: relative;}#sk-container-id-1 div.sk-text-repr-fallback {display: none;}</style><div id=\"sk-container-id-1\" class=\"sk-top-container\"><div class=\"sk-text-repr-fallback\"><pre>LinearRegression()</pre><b>In a Jupyter environment, please rerun this cell to show the HTML representation or trust the notebook. <br />On GitHub, the HTML representation is unable to render, please try loading this page with nbviewer.org.</b></div><div class=\"sk-container\" hidden><div class=\"sk-item\"><div class=\"sk-estimator sk-toggleable\"><input class=\"sk-toggleable__control sk-hidden--visually\" id=\"sk-estimator-id-1\" type=\"checkbox\" checked><label for=\"sk-estimator-id-1\" class=\"sk-toggleable__label sk-toggleable__label-arrow\">LinearRegression</label><div class=\"sk-toggleable__content\"><pre>LinearRegression()</pre></div></div></div></div></div>"
      ],
      "text/plain": [
       "LinearRegression()"
      ]
     },
     "execution_count": 6,
     "metadata": {},
     "output_type": "execute_result"
    }
   ],
   "source": [
    "from sklearn.linear_model import LinearRegression\n",
    "reg = LinearRegression()\n",
    "reg.fit(x_train, y_train)"
   ]
  },
  {
   "cell_type": "markdown",
   "id": "2d620221",
   "metadata": {
    "papermill": {
     "duration": 0.004405,
     "end_time": "2023-05-19T16:44:03.028547",
     "exception": false,
     "start_time": "2023-05-19T16:44:03.024142",
     "status": "completed"
    },
    "tags": []
   },
   "source": [
    "Predicting the test set results"
   ]
  },
  {
   "cell_type": "code",
   "execution_count": 7,
   "id": "85c76348",
   "metadata": {
    "execution": {
     "iopub.execute_input": "2023-05-19T16:44:03.040079Z",
     "iopub.status.busy": "2023-05-19T16:44:03.039282Z",
     "iopub.status.idle": "2023-05-19T16:44:03.050921Z",
     "shell.execute_reply": "2023-05-19T16:44:03.049783Z"
    },
    "papermill": {
     "duration": 0.020972,
     "end_time": "2023-05-19T16:44:03.054124",
     "exception": false,
     "start_time": "2023-05-19T16:44:03.033152",
     "status": "completed"
    },
    "tags": []
   },
   "outputs": [
    {
     "name": "stdout",
     "output_type": "stream",
     "text": [
      "[[72.69 77.3 ]\n",
      " [69.17 66.6 ]\n",
      " [50.42 52.6 ]\n",
      " [68.05 61.5 ]\n",
      " [58.11 60.  ]\n",
      " [63.65 69.3 ]\n",
      " [72.47 71.1 ]\n",
      " [80.2  81.5 ]\n",
      " [69.8  74.3 ]\n",
      " [44.49 51.9 ]\n",
      " [70.45 65.5 ]\n",
      " [78.93 87.  ]\n",
      " [72.46 76.9 ]\n",
      " [75.59 76.1 ]\n",
      " [64.33 65.  ]\n",
      " [70.98 74.6 ]\n",
      " [61.61 59.3 ]\n",
      " [64.87 64.2 ]\n",
      " [70.23 73.  ]\n",
      " [74.85 81.4 ]\n",
      " [68.43 71.8 ]\n",
      " [75.23 65.9 ]\n",
      " [75.34 73.6 ]\n",
      " [76.37 79.9 ]\n",
      " [66.79 71.7 ]\n",
      " [58.98 62.  ]\n",
      " [79.27 81.5 ]\n",
      " [72.29 74.  ]\n",
      " [71.41 72.4 ]\n",
      " [75.45 73.1 ]\n",
      " [75.91 76.4 ]\n",
      " [56.43 45.4 ]\n",
      " [76.99 77.8 ]\n",
      " [76.29 74.8 ]\n",
      " [75.23 75.6 ]\n",
      " [71.21 71.7 ]\n",
      " [73.65 72.3 ]\n",
      " [79.04 81.7 ]\n",
      " [64.8  68.  ]\n",
      " [70.5  72.3 ]\n",
      " [63.33 59.7 ]\n",
      " [70.33 76.4 ]\n",
      " [73.84 83.  ]\n",
      " [71.77 72.5 ]\n",
      " [70.02 74.  ]\n",
      " [78.92 78.8 ]\n",
      " [60.95 54.3 ]\n",
      " [75.29 74.3 ]\n",
      " [55.61 52.9 ]\n",
      " [71.95 82.  ]\n",
      " [74.23 74.1 ]\n",
      " [64.73 55.9 ]\n",
      " [78.83 73.4 ]\n",
      " [70.58 72.8 ]\n",
      " [72.43 77.  ]\n",
      " [70.75 71.7 ]\n",
      " [79.44 88.  ]\n",
      " [70.16 74.6 ]\n",
      " [58.86 55.9 ]\n",
      " [72.73 72.3 ]\n",
      " [68.84 67.6 ]\n",
      " [70.74 72.2 ]\n",
      " [74.87 83.  ]\n",
      " [66.61 67.4 ]\n",
      " [57.55 62.6 ]\n",
      " [75.41 73.9 ]\n",
      " [74.41 68.6 ]\n",
      " [72.24 72.7 ]\n",
      " [67.7  43.3 ]\n",
      " [75.13 74.1 ]\n",
      " [72.92 76.  ]\n",
      " [75.04 82.5 ]\n",
      " [77.37 89.  ]\n",
      " [76.14 75.1 ]\n",
      " [67.   68.3 ]\n",
      " [52.57 49.2 ]\n",
      " [68.66 77.  ]\n",
      " [64.13 62.3 ]\n",
      " [72.45 69.  ]\n",
      " [69.43 73.9 ]\n",
      " [80.05 78.9 ]\n",
      " [77.04 75.4 ]\n",
      " [75.69 74.1 ]\n",
      " [48.94 58.  ]\n",
      " [77.31 76.9 ]\n",
      " [72.89 73.6 ]\n",
      " [67.8  58.9 ]\n",
      " [58.37 47.6 ]\n",
      " [76.59 74.1 ]\n",
      " [77.44 78.2 ]\n",
      " [68.89 73.5 ]\n",
      " [62.83 59.  ]\n",
      " [78.02 74.3 ]\n",
      " [66.86 72.5 ]\n",
      " [48.71 48.3 ]\n",
      " [79.89 89.  ]\n",
      " [63.67 61.3 ]\n",
      " [67.42 57.2 ]\n",
      " [65.21 67.  ]\n",
      " [75.89 73.3 ]\n",
      " [71.36 74.8 ]\n",
      " [73.25 75.3 ]\n",
      " [76.87 81.1 ]\n",
      " [74.2  77.  ]\n",
      " [72.5  76.9 ]\n",
      " [77.34 79.9 ]\n",
      " [76.22 75.4 ]\n",
      " [65.6  62.1 ]\n",
      " [75.09 78.9 ]\n",
      " [62.93 67.  ]\n",
      " [64.93 62.  ]\n",
      " [57.38 56.2 ]\n",
      " [79.26 81.9 ]\n",
      " [79.29 81.  ]\n",
      " [64.03 62.6 ]\n",
      " [73.18 79.5 ]\n",
      " [70.16 71.2 ]\n",
      " [74.08 82.2 ]\n",
      " [70.   78.  ]\n",
      " [71.7  66.5 ]\n",
      " [58.71 58.2 ]\n",
      " [52.13 47.8 ]\n",
      " [68.66 74.5 ]\n",
      " [76.51 73.8 ]\n",
      " [55.57 52.1 ]\n",
      " [69.21 61.7 ]\n",
      " [65.73 63.4 ]\n",
      " [79.5  78.  ]\n",
      " [74.75 73.  ]\n",
      " [71.72 69.9 ]\n",
      " [66.35 69.2 ]\n",
      " [74.1  64.7 ]\n",
      " [69.26 71.2 ]\n",
      " [72.65 72.6 ]\n",
      " [63.54 63.  ]\n",
      " [60.81 59.4 ]\n",
      " [75.02 81.  ]\n",
      " [72.88 73.6 ]\n",
      " [74.43 86.  ]\n",
      " [48.12 50.  ]\n",
      " [77.45 79.4 ]\n",
      " [69.96 72.8 ]\n",
      " [71.01 66.2 ]\n",
      " [68.71 73.9 ]\n",
      " [79.48 78.7 ]\n",
      " [66.91 73.4 ]\n",
      " [67.23 66.5 ]]\n"
     ]
    }
   ],
   "source": [
    "y_pred = reg.predict(x_test)\n",
    "np.set_printoptions(precision = 2)\n",
    "print(np.concatenate((y_pred.reshape(len(y_pred),1), y_test.reshape(len(y_test),1)), 1))"
   ]
  }
 ],
 "metadata": {
  "kernelspec": {
   "display_name": "Python 3",
   "language": "python",
   "name": "python3"
  },
  "language_info": {
   "codemirror_mode": {
    "name": "ipython",
    "version": 3
   },
   "file_extension": ".py",
   "mimetype": "text/x-python",
   "name": "python",
   "nbconvert_exporter": "python",
   "pygments_lexer": "ipython3",
   "version": "3.10.10"
  },
  "papermill": {
   "default_parameters": {},
   "duration": 14.534648,
   "end_time": "2023-05-19T16:44:04.081621",
   "environment_variables": {},
   "exception": null,
   "input_path": "__notebook__.ipynb",
   "output_path": "__notebook__.ipynb",
   "parameters": {},
   "start_time": "2023-05-19T16:43:49.546973",
   "version": "2.4.0"
  }
 },
 "nbformat": 4,
 "nbformat_minor": 5
}
